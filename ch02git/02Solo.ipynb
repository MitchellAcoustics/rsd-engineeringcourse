{
 "cells": [
  {
   "cell_type": "markdown",
   "metadata": {},
   "source": [
    "## Solo work with Git"
   ]
  },
  {
   "cell_type": "markdown",
   "metadata": {},
   "source": [
    "So, we're in our git working directory:"
   ]
  },
  {
   "cell_type": "code",
   "execution_count": 1,
   "metadata": {},
   "outputs": [
    {
     "output_type": "execute_result",
     "data": {
      "text/plain": [
       "'c:\\\\Users\\\\Andrew\\\\OneDrive - University College London\\\\_PhD\\\\Courses\\\\Turing\\\\rsd-engineeringcourse\\\\ch02git\\\\learning_git\\\\git_example'"
      ]
     },
     "metadata": {},
     "execution_count": 1
    }
   ],
   "source": [
    "import os\n",
    "top_dir = os.getcwd()\n",
    "git_dir = os.path.join(top_dir, 'learning_git')\n",
    "working_dir = os.path.join(git_dir, 'git_example')\n",
    "os.chdir(working_dir)\n",
    "working_dir"
   ]
  },
  {
   "cell_type": "markdown",
   "metadata": {},
   "source": [
    "### A first example file\n",
    "\n",
    "So let's create an example file, and see how to start to manage a history of changes to it."
   ]
  },
  {
   "cell_type": "markdown",
   "metadata": {},
   "source": [
    "    <my editor> test.md # Type some content into the file."
   ]
  },
  {
   "cell_type": "code",
   "execution_count": 2,
   "metadata": {},
   "outputs": [
    {
     "output_type": "stream",
     "name": "stdout",
     "text": [
      "Overwriting test.md\n"
     ]
    }
   ],
   "source": [
    "%%writefile test.md\n",
    "Mountains in the UK   \n",
    "===================   \n",
    "England is not very mountainous.   \n",
    "But has some tall hills, and maybe a mountain or two depending on your definition.\n"
   ]
  },
  {
   "cell_type": "code",
   "execution_count": 4,
   "metadata": {
    "attributes": {
     "classes": [
      " Bash"
     ],
     "id": ""
    }
   },
   "outputs": [
    {
     "output_type": "stream",
     "name": "stdout",
     "text": [
      "Mountains in the UK   \n===================   \nEngland is not very mountainous.   \nBut has some tall hills, and maybe a mountain or two depending on your definition.\n"
     ]
    }
   ],
   "source": [
    "%%bash\n",
    "cat test.md"
   ]
  },
  {
   "cell_type": "markdown",
   "metadata": {},
   "source": [
    "### Telling Git about the File\n",
    "\n",
    "So, let's tell Git that `test.md` is a file which is important, and we would like to keep track of its history:"
   ]
  },
  {
   "cell_type": "code",
   "execution_count": 5,
   "metadata": {
    "attributes": {
     "classes": [
      " Bash"
     ],
     "id": ""
    }
   },
   "outputs": [
    {
     "output_type": "stream",
     "name": "stderr",
     "text": [
      "/usr/bin/bash: line 1: git: command not found\n"
     ]
    },
    {
     "output_type": "error",
     "ename": "CalledProcessError",
     "evalue": "Command 'b'git add test.md\\n'' returned non-zero exit status 127.",
     "traceback": [
      "\u001b[1;31m---------------------------------------------------------------------------\u001b[0m",
      "\u001b[1;31mCalledProcessError\u001b[0m                        Traceback (most recent call last)",
      "\u001b[1;32m<ipython-input-5-a4038063ccab>\u001b[0m in \u001b[0;36m<module>\u001b[1;34m\u001b[0m\n\u001b[1;32m----> 1\u001b[1;33m \u001b[0mget_ipython\u001b[0m\u001b[1;33m(\u001b[0m\u001b[1;33m)\u001b[0m\u001b[1;33m.\u001b[0m\u001b[0mrun_cell_magic\u001b[0m\u001b[1;33m(\u001b[0m\u001b[1;34m'bash'\u001b[0m\u001b[1;33m,\u001b[0m \u001b[1;34m''\u001b[0m\u001b[1;33m,\u001b[0m \u001b[1;34m'git add test.md\\n'\u001b[0m\u001b[1;33m)\u001b[0m\u001b[1;33m\u001b[0m\u001b[1;33m\u001b[0m\u001b[0m\n\u001b[0m",
      "\u001b[1;32m~\\Anaconda3\\lib\\site-packages\\IPython\\core\\interactiveshell.py\u001b[0m in \u001b[0;36mrun_cell_magic\u001b[1;34m(self, magic_name, line, cell)\u001b[0m\n\u001b[0;32m   2380\u001b[0m             \u001b[1;32mwith\u001b[0m \u001b[0mself\u001b[0m\u001b[1;33m.\u001b[0m\u001b[0mbuiltin_trap\u001b[0m\u001b[1;33m:\u001b[0m\u001b[1;33m\u001b[0m\u001b[1;33m\u001b[0m\u001b[0m\n\u001b[0;32m   2381\u001b[0m                 \u001b[0margs\u001b[0m \u001b[1;33m=\u001b[0m \u001b[1;33m(\u001b[0m\u001b[0mmagic_arg_s\u001b[0m\u001b[1;33m,\u001b[0m \u001b[0mcell\u001b[0m\u001b[1;33m)\u001b[0m\u001b[1;33m\u001b[0m\u001b[1;33m\u001b[0m\u001b[0m\n\u001b[1;32m-> 2382\u001b[1;33m                 \u001b[0mresult\u001b[0m \u001b[1;33m=\u001b[0m \u001b[0mfn\u001b[0m\u001b[1;33m(\u001b[0m\u001b[1;33m*\u001b[0m\u001b[0margs\u001b[0m\u001b[1;33m,\u001b[0m \u001b[1;33m**\u001b[0m\u001b[0mkwargs\u001b[0m\u001b[1;33m)\u001b[0m\u001b[1;33m\u001b[0m\u001b[1;33m\u001b[0m\u001b[0m\n\u001b[0m\u001b[0;32m   2383\u001b[0m             \u001b[1;32mreturn\u001b[0m \u001b[0mresult\u001b[0m\u001b[1;33m\u001b[0m\u001b[1;33m\u001b[0m\u001b[0m\n\u001b[0;32m   2384\u001b[0m \u001b[1;33m\u001b[0m\u001b[0m\n",
      "\u001b[1;32m~\\Anaconda3\\lib\\site-packages\\IPython\\core\\magics\\script.py\u001b[0m in \u001b[0;36mnamed_script_magic\u001b[1;34m(line, cell)\u001b[0m\n\u001b[0;32m    140\u001b[0m             \u001b[1;32melse\u001b[0m\u001b[1;33m:\u001b[0m\u001b[1;33m\u001b[0m\u001b[1;33m\u001b[0m\u001b[0m\n\u001b[0;32m    141\u001b[0m                 \u001b[0mline\u001b[0m \u001b[1;33m=\u001b[0m \u001b[0mscript\u001b[0m\u001b[1;33m\u001b[0m\u001b[1;33m\u001b[0m\u001b[0m\n\u001b[1;32m--> 142\u001b[1;33m             \u001b[1;32mreturn\u001b[0m \u001b[0mself\u001b[0m\u001b[1;33m.\u001b[0m\u001b[0mshebang\u001b[0m\u001b[1;33m(\u001b[0m\u001b[0mline\u001b[0m\u001b[1;33m,\u001b[0m \u001b[0mcell\u001b[0m\u001b[1;33m)\u001b[0m\u001b[1;33m\u001b[0m\u001b[1;33m\u001b[0m\u001b[0m\n\u001b[0m\u001b[0;32m    143\u001b[0m \u001b[1;33m\u001b[0m\u001b[0m\n\u001b[0;32m    144\u001b[0m         \u001b[1;31m# write a basic docstring:\u001b[0m\u001b[1;33m\u001b[0m\u001b[1;33m\u001b[0m\u001b[1;33m\u001b[0m\u001b[0m\n",
      "\u001b[1;32m<decorator-gen-104>\u001b[0m in \u001b[0;36mshebang\u001b[1;34m(self, line, cell)\u001b[0m\n",
      "\u001b[1;32m~\\Anaconda3\\lib\\site-packages\\IPython\\core\\magic.py\u001b[0m in \u001b[0;36m<lambda>\u001b[1;34m(f, *a, **k)\u001b[0m\n\u001b[0;32m    185\u001b[0m     \u001b[1;31m# but it's overkill for just that one bit of state.\u001b[0m\u001b[1;33m\u001b[0m\u001b[1;33m\u001b[0m\u001b[1;33m\u001b[0m\u001b[0m\n\u001b[0;32m    186\u001b[0m     \u001b[1;32mdef\u001b[0m \u001b[0mmagic_deco\u001b[0m\u001b[1;33m(\u001b[0m\u001b[0marg\u001b[0m\u001b[1;33m)\u001b[0m\u001b[1;33m:\u001b[0m\u001b[1;33m\u001b[0m\u001b[1;33m\u001b[0m\u001b[0m\n\u001b[1;32m--> 187\u001b[1;33m         \u001b[0mcall\u001b[0m \u001b[1;33m=\u001b[0m \u001b[1;32mlambda\u001b[0m \u001b[0mf\u001b[0m\u001b[1;33m,\u001b[0m \u001b[1;33m*\u001b[0m\u001b[0ma\u001b[0m\u001b[1;33m,\u001b[0m \u001b[1;33m**\u001b[0m\u001b[0mk\u001b[0m\u001b[1;33m:\u001b[0m \u001b[0mf\u001b[0m\u001b[1;33m(\u001b[0m\u001b[1;33m*\u001b[0m\u001b[0ma\u001b[0m\u001b[1;33m,\u001b[0m \u001b[1;33m**\u001b[0m\u001b[0mk\u001b[0m\u001b[1;33m)\u001b[0m\u001b[1;33m\u001b[0m\u001b[1;33m\u001b[0m\u001b[0m\n\u001b[0m\u001b[0;32m    188\u001b[0m \u001b[1;33m\u001b[0m\u001b[0m\n\u001b[0;32m    189\u001b[0m         \u001b[1;32mif\u001b[0m \u001b[0mcallable\u001b[0m\u001b[1;33m(\u001b[0m\u001b[0marg\u001b[0m\u001b[1;33m)\u001b[0m\u001b[1;33m:\u001b[0m\u001b[1;33m\u001b[0m\u001b[1;33m\u001b[0m\u001b[0m\n",
      "\u001b[1;32m~\\Anaconda3\\lib\\site-packages\\IPython\\core\\magics\\script.py\u001b[0m in \u001b[0;36mshebang\u001b[1;34m(self, line, cell)\u001b[0m\n\u001b[0;32m    243\u001b[0m             \u001b[0msys\u001b[0m\u001b[1;33m.\u001b[0m\u001b[0mstderr\u001b[0m\u001b[1;33m.\u001b[0m\u001b[0mflush\u001b[0m\u001b[1;33m(\u001b[0m\u001b[1;33m)\u001b[0m\u001b[1;33m\u001b[0m\u001b[1;33m\u001b[0m\u001b[0m\n\u001b[0;32m    244\u001b[0m         \u001b[1;32mif\u001b[0m \u001b[0margs\u001b[0m\u001b[1;33m.\u001b[0m\u001b[0mraise_error\u001b[0m \u001b[1;32mand\u001b[0m \u001b[0mp\u001b[0m\u001b[1;33m.\u001b[0m\u001b[0mreturncode\u001b[0m\u001b[1;33m!=\u001b[0m\u001b[1;36m0\u001b[0m\u001b[1;33m:\u001b[0m\u001b[1;33m\u001b[0m\u001b[1;33m\u001b[0m\u001b[0m\n\u001b[1;32m--> 245\u001b[1;33m             \u001b[1;32mraise\u001b[0m \u001b[0mCalledProcessError\u001b[0m\u001b[1;33m(\u001b[0m\u001b[0mp\u001b[0m\u001b[1;33m.\u001b[0m\u001b[0mreturncode\u001b[0m\u001b[1;33m,\u001b[0m \u001b[0mcell\u001b[0m\u001b[1;33m,\u001b[0m \u001b[0moutput\u001b[0m\u001b[1;33m=\u001b[0m\u001b[0mout\u001b[0m\u001b[1;33m,\u001b[0m \u001b[0mstderr\u001b[0m\u001b[1;33m=\u001b[0m\u001b[0merr\u001b[0m\u001b[1;33m)\u001b[0m\u001b[1;33m\u001b[0m\u001b[1;33m\u001b[0m\u001b[0m\n\u001b[0m\u001b[0;32m    246\u001b[0m \u001b[1;33m\u001b[0m\u001b[0m\n\u001b[0;32m    247\u001b[0m     \u001b[1;32mdef\u001b[0m \u001b[0m_run_script\u001b[0m\u001b[1;33m(\u001b[0m\u001b[0mself\u001b[0m\u001b[1;33m,\u001b[0m \u001b[0mp\u001b[0m\u001b[1;33m,\u001b[0m \u001b[0mcell\u001b[0m\u001b[1;33m,\u001b[0m \u001b[0mto_close\u001b[0m\u001b[1;33m)\u001b[0m\u001b[1;33m:\u001b[0m\u001b[1;33m\u001b[0m\u001b[1;33m\u001b[0m\u001b[0m\n",
      "\u001b[1;31mCalledProcessError\u001b[0m: Command 'b'git add test.md\\n'' returned non-zero exit status 127."
     ]
    }
   ],
   "source": [
    "%%bash\n",
    "git add test.md"
   ]
  },
  {
   "cell_type": "markdown",
   "metadata": {},
   "source": [
    "Don't forget: Any files in repositories which you want to \"track\" need to be added with `git add` after you create them.\n",
    "\n",
    "### Our first commit\n",
    "\n",
    "Now, we need to tell Git to record the first version of this file in the history of changes:"
   ]
  },
  {
   "cell_type": "code",
   "execution_count": 6,
   "metadata": {
    "attributes": {
     "classes": [
      " Bash"
     ],
     "id": ""
    }
   },
   "outputs": [
    {
     "output_type": "stream",
     "name": "stderr",
     "text": [
      "/usr/bin/bash: line 1: git: command not found\n"
     ]
    },
    {
     "output_type": "error",
     "ename": "CalledProcessError",
     "evalue": "Command 'b'git commit -m \"First commit of discourse on UK topography\"\\n'' returned non-zero exit status 127.",
     "traceback": [
      "\u001b[1;31m---------------------------------------------------------------------------\u001b[0m",
      "\u001b[1;31mCalledProcessError\u001b[0m                        Traceback (most recent call last)",
      "\u001b[1;32m<ipython-input-6-2180c0eeafb2>\u001b[0m in \u001b[0;36m<module>\u001b[1;34m\u001b[0m\n\u001b[1;32m----> 1\u001b[1;33m \u001b[0mget_ipython\u001b[0m\u001b[1;33m(\u001b[0m\u001b[1;33m)\u001b[0m\u001b[1;33m.\u001b[0m\u001b[0mrun_cell_magic\u001b[0m\u001b[1;33m(\u001b[0m\u001b[1;34m'bash'\u001b[0m\u001b[1;33m,\u001b[0m \u001b[1;34m''\u001b[0m\u001b[1;33m,\u001b[0m \u001b[1;34m'git commit -m \"First commit of discourse on UK topography\"\\n'\u001b[0m\u001b[1;33m)\u001b[0m\u001b[1;33m\u001b[0m\u001b[1;33m\u001b[0m\u001b[0m\n\u001b[0m",
      "\u001b[1;32m~\\Anaconda3\\lib\\site-packages\\IPython\\core\\interactiveshell.py\u001b[0m in \u001b[0;36mrun_cell_magic\u001b[1;34m(self, magic_name, line, cell)\u001b[0m\n\u001b[0;32m   2380\u001b[0m             \u001b[1;32mwith\u001b[0m \u001b[0mself\u001b[0m\u001b[1;33m.\u001b[0m\u001b[0mbuiltin_trap\u001b[0m\u001b[1;33m:\u001b[0m\u001b[1;33m\u001b[0m\u001b[1;33m\u001b[0m\u001b[0m\n\u001b[0;32m   2381\u001b[0m                 \u001b[0margs\u001b[0m \u001b[1;33m=\u001b[0m \u001b[1;33m(\u001b[0m\u001b[0mmagic_arg_s\u001b[0m\u001b[1;33m,\u001b[0m \u001b[0mcell\u001b[0m\u001b[1;33m)\u001b[0m\u001b[1;33m\u001b[0m\u001b[1;33m\u001b[0m\u001b[0m\n\u001b[1;32m-> 2382\u001b[1;33m                 \u001b[0mresult\u001b[0m \u001b[1;33m=\u001b[0m \u001b[0mfn\u001b[0m\u001b[1;33m(\u001b[0m\u001b[1;33m*\u001b[0m\u001b[0margs\u001b[0m\u001b[1;33m,\u001b[0m \u001b[1;33m**\u001b[0m\u001b[0mkwargs\u001b[0m\u001b[1;33m)\u001b[0m\u001b[1;33m\u001b[0m\u001b[1;33m\u001b[0m\u001b[0m\n\u001b[0m\u001b[0;32m   2383\u001b[0m             \u001b[1;32mreturn\u001b[0m \u001b[0mresult\u001b[0m\u001b[1;33m\u001b[0m\u001b[1;33m\u001b[0m\u001b[0m\n\u001b[0;32m   2384\u001b[0m \u001b[1;33m\u001b[0m\u001b[0m\n",
      "\u001b[1;32m~\\Anaconda3\\lib\\site-packages\\IPython\\core\\magics\\script.py\u001b[0m in \u001b[0;36mnamed_script_magic\u001b[1;34m(line, cell)\u001b[0m\n\u001b[0;32m    140\u001b[0m             \u001b[1;32melse\u001b[0m\u001b[1;33m:\u001b[0m\u001b[1;33m\u001b[0m\u001b[1;33m\u001b[0m\u001b[0m\n\u001b[0;32m    141\u001b[0m                 \u001b[0mline\u001b[0m \u001b[1;33m=\u001b[0m \u001b[0mscript\u001b[0m\u001b[1;33m\u001b[0m\u001b[1;33m\u001b[0m\u001b[0m\n\u001b[1;32m--> 142\u001b[1;33m             \u001b[1;32mreturn\u001b[0m \u001b[0mself\u001b[0m\u001b[1;33m.\u001b[0m\u001b[0mshebang\u001b[0m\u001b[1;33m(\u001b[0m\u001b[0mline\u001b[0m\u001b[1;33m,\u001b[0m \u001b[0mcell\u001b[0m\u001b[1;33m)\u001b[0m\u001b[1;33m\u001b[0m\u001b[1;33m\u001b[0m\u001b[0m\n\u001b[0m\u001b[0;32m    143\u001b[0m \u001b[1;33m\u001b[0m\u001b[0m\n\u001b[0;32m    144\u001b[0m         \u001b[1;31m# write a basic docstring:\u001b[0m\u001b[1;33m\u001b[0m\u001b[1;33m\u001b[0m\u001b[1;33m\u001b[0m\u001b[0m\n",
      "\u001b[1;32m<decorator-gen-104>\u001b[0m in \u001b[0;36mshebang\u001b[1;34m(self, line, cell)\u001b[0m\n",
      "\u001b[1;32m~\\Anaconda3\\lib\\site-packages\\IPython\\core\\magic.py\u001b[0m in \u001b[0;36m<lambda>\u001b[1;34m(f, *a, **k)\u001b[0m\n\u001b[0;32m    185\u001b[0m     \u001b[1;31m# but it's overkill for just that one bit of state.\u001b[0m\u001b[1;33m\u001b[0m\u001b[1;33m\u001b[0m\u001b[1;33m\u001b[0m\u001b[0m\n\u001b[0;32m    186\u001b[0m     \u001b[1;32mdef\u001b[0m \u001b[0mmagic_deco\u001b[0m\u001b[1;33m(\u001b[0m\u001b[0marg\u001b[0m\u001b[1;33m)\u001b[0m\u001b[1;33m:\u001b[0m\u001b[1;33m\u001b[0m\u001b[1;33m\u001b[0m\u001b[0m\n\u001b[1;32m--> 187\u001b[1;33m         \u001b[0mcall\u001b[0m \u001b[1;33m=\u001b[0m \u001b[1;32mlambda\u001b[0m \u001b[0mf\u001b[0m\u001b[1;33m,\u001b[0m \u001b[1;33m*\u001b[0m\u001b[0ma\u001b[0m\u001b[1;33m,\u001b[0m \u001b[1;33m**\u001b[0m\u001b[0mk\u001b[0m\u001b[1;33m:\u001b[0m \u001b[0mf\u001b[0m\u001b[1;33m(\u001b[0m\u001b[1;33m*\u001b[0m\u001b[0ma\u001b[0m\u001b[1;33m,\u001b[0m \u001b[1;33m**\u001b[0m\u001b[0mk\u001b[0m\u001b[1;33m)\u001b[0m\u001b[1;33m\u001b[0m\u001b[1;33m\u001b[0m\u001b[0m\n\u001b[0m\u001b[0;32m    188\u001b[0m \u001b[1;33m\u001b[0m\u001b[0m\n\u001b[0;32m    189\u001b[0m         \u001b[1;32mif\u001b[0m \u001b[0mcallable\u001b[0m\u001b[1;33m(\u001b[0m\u001b[0marg\u001b[0m\u001b[1;33m)\u001b[0m\u001b[1;33m:\u001b[0m\u001b[1;33m\u001b[0m\u001b[1;33m\u001b[0m\u001b[0m\n",
      "\u001b[1;32m~\\Anaconda3\\lib\\site-packages\\IPython\\core\\magics\\script.py\u001b[0m in \u001b[0;36mshebang\u001b[1;34m(self, line, cell)\u001b[0m\n\u001b[0;32m    243\u001b[0m             \u001b[0msys\u001b[0m\u001b[1;33m.\u001b[0m\u001b[0mstderr\u001b[0m\u001b[1;33m.\u001b[0m\u001b[0mflush\u001b[0m\u001b[1;33m(\u001b[0m\u001b[1;33m)\u001b[0m\u001b[1;33m\u001b[0m\u001b[1;33m\u001b[0m\u001b[0m\n\u001b[0;32m    244\u001b[0m         \u001b[1;32mif\u001b[0m \u001b[0margs\u001b[0m\u001b[1;33m.\u001b[0m\u001b[0mraise_error\u001b[0m \u001b[1;32mand\u001b[0m \u001b[0mp\u001b[0m\u001b[1;33m.\u001b[0m\u001b[0mreturncode\u001b[0m\u001b[1;33m!=\u001b[0m\u001b[1;36m0\u001b[0m\u001b[1;33m:\u001b[0m\u001b[1;33m\u001b[0m\u001b[1;33m\u001b[0m\u001b[0m\n\u001b[1;32m--> 245\u001b[1;33m             \u001b[1;32mraise\u001b[0m \u001b[0mCalledProcessError\u001b[0m\u001b[1;33m(\u001b[0m\u001b[0mp\u001b[0m\u001b[1;33m.\u001b[0m\u001b[0mreturncode\u001b[0m\u001b[1;33m,\u001b[0m \u001b[0mcell\u001b[0m\u001b[1;33m,\u001b[0m \u001b[0moutput\u001b[0m\u001b[1;33m=\u001b[0m\u001b[0mout\u001b[0m\u001b[1;33m,\u001b[0m \u001b[0mstderr\u001b[0m\u001b[1;33m=\u001b[0m\u001b[0merr\u001b[0m\u001b[1;33m)\u001b[0m\u001b[1;33m\u001b[0m\u001b[1;33m\u001b[0m\u001b[0m\n\u001b[0m\u001b[0;32m    246\u001b[0m \u001b[1;33m\u001b[0m\u001b[0m\n\u001b[0;32m    247\u001b[0m     \u001b[1;32mdef\u001b[0m \u001b[0m_run_script\u001b[0m\u001b[1;33m(\u001b[0m\u001b[0mself\u001b[0m\u001b[1;33m,\u001b[0m \u001b[0mp\u001b[0m\u001b[1;33m,\u001b[0m \u001b[0mcell\u001b[0m\u001b[1;33m,\u001b[0m \u001b[0mto_close\u001b[0m\u001b[1;33m)\u001b[0m\u001b[1;33m:\u001b[0m\u001b[1;33m\u001b[0m\u001b[1;33m\u001b[0m\u001b[0m\n",
      "\u001b[1;31mCalledProcessError\u001b[0m: Command 'b'git commit -m \"First commit of discourse on UK topography\"\\n'' returned non-zero exit status 127."
     ]
    }
   ],
   "source": [
    "%%bash\n",
    "git commit -m \"First commit of discourse on UK topography\""
   ]
  },
  {
   "cell_type": "markdown",
   "metadata": {},
   "source": [
    "And note the confirmation from Git.\n",
    "\n",
    "There's a lot of output there you can ignore for now."
   ]
  },
  {
   "cell_type": "markdown",
   "metadata": {},
   "source": [
    "### Configuring Git with your editor\n",
    "\n",
    "If you don't type in the log message directly with -m \"Some message\", then an editor will pop up, to allow you\n",
    "to edit your message on the fly."
   ]
  },
  {
   "cell_type": "markdown",
   "metadata": {},
   "source": [
<<<<<<< Updated upstream
    "For this to work, you have to tell git where to find your editor.\n",
    "\n",
    "```bash\n",
    "git config --global core.editor vim \n",
    "```"
=======
    "For this to work, you have to tell git where to find your editor."
   ]
  },
  {
   "cell_type": "code",
   "execution_count": 7,
   "metadata": {
    "attributes": {
     "classes": [
      " Bash"
     ],
     "id": ""
    }
   },
   "outputs": [
    {
     "output_type": "stream",
     "name": "stderr",
     "text": [
      "/usr/bin/bash: line 1: git: command not found\n"
     ]
    },
    {
     "output_type": "error",
     "ename": "CalledProcessError",
     "evalue": "Command 'b'git config --global core.editor vim \\n'' returned non-zero exit status 127.",
     "traceback": [
      "\u001b[1;31m---------------------------------------------------------------------------\u001b[0m",
      "\u001b[1;31mCalledProcessError\u001b[0m                        Traceback (most recent call last)",
      "\u001b[1;32m<ipython-input-7-e39ead03e05d>\u001b[0m in \u001b[0;36m<module>\u001b[1;34m\u001b[0m\n\u001b[1;32m----> 1\u001b[1;33m \u001b[0mget_ipython\u001b[0m\u001b[1;33m(\u001b[0m\u001b[1;33m)\u001b[0m\u001b[1;33m.\u001b[0m\u001b[0mrun_cell_magic\u001b[0m\u001b[1;33m(\u001b[0m\u001b[1;34m'bash'\u001b[0m\u001b[1;33m,\u001b[0m \u001b[1;34m''\u001b[0m\u001b[1;33m,\u001b[0m \u001b[1;34m'git config --global core.editor vim \\n'\u001b[0m\u001b[1;33m)\u001b[0m\u001b[1;33m\u001b[0m\u001b[1;33m\u001b[0m\u001b[0m\n\u001b[0m",
      "\u001b[1;32m~\\Anaconda3\\lib\\site-packages\\IPython\\core\\interactiveshell.py\u001b[0m in \u001b[0;36mrun_cell_magic\u001b[1;34m(self, magic_name, line, cell)\u001b[0m\n\u001b[0;32m   2380\u001b[0m             \u001b[1;32mwith\u001b[0m \u001b[0mself\u001b[0m\u001b[1;33m.\u001b[0m\u001b[0mbuiltin_trap\u001b[0m\u001b[1;33m:\u001b[0m\u001b[1;33m\u001b[0m\u001b[1;33m\u001b[0m\u001b[0m\n\u001b[0;32m   2381\u001b[0m                 \u001b[0margs\u001b[0m \u001b[1;33m=\u001b[0m \u001b[1;33m(\u001b[0m\u001b[0mmagic_arg_s\u001b[0m\u001b[1;33m,\u001b[0m \u001b[0mcell\u001b[0m\u001b[1;33m)\u001b[0m\u001b[1;33m\u001b[0m\u001b[1;33m\u001b[0m\u001b[0m\n\u001b[1;32m-> 2382\u001b[1;33m                 \u001b[0mresult\u001b[0m \u001b[1;33m=\u001b[0m \u001b[0mfn\u001b[0m\u001b[1;33m(\u001b[0m\u001b[1;33m*\u001b[0m\u001b[0margs\u001b[0m\u001b[1;33m,\u001b[0m \u001b[1;33m**\u001b[0m\u001b[0mkwargs\u001b[0m\u001b[1;33m)\u001b[0m\u001b[1;33m\u001b[0m\u001b[1;33m\u001b[0m\u001b[0m\n\u001b[0m\u001b[0;32m   2383\u001b[0m             \u001b[1;32mreturn\u001b[0m \u001b[0mresult\u001b[0m\u001b[1;33m\u001b[0m\u001b[1;33m\u001b[0m\u001b[0m\n\u001b[0;32m   2384\u001b[0m \u001b[1;33m\u001b[0m\u001b[0m\n",
      "\u001b[1;32m~\\Anaconda3\\lib\\site-packages\\IPython\\core\\magics\\script.py\u001b[0m in \u001b[0;36mnamed_script_magic\u001b[1;34m(line, cell)\u001b[0m\n\u001b[0;32m    140\u001b[0m             \u001b[1;32melse\u001b[0m\u001b[1;33m:\u001b[0m\u001b[1;33m\u001b[0m\u001b[1;33m\u001b[0m\u001b[0m\n\u001b[0;32m    141\u001b[0m                 \u001b[0mline\u001b[0m \u001b[1;33m=\u001b[0m \u001b[0mscript\u001b[0m\u001b[1;33m\u001b[0m\u001b[1;33m\u001b[0m\u001b[0m\n\u001b[1;32m--> 142\u001b[1;33m             \u001b[1;32mreturn\u001b[0m \u001b[0mself\u001b[0m\u001b[1;33m.\u001b[0m\u001b[0mshebang\u001b[0m\u001b[1;33m(\u001b[0m\u001b[0mline\u001b[0m\u001b[1;33m,\u001b[0m \u001b[0mcell\u001b[0m\u001b[1;33m)\u001b[0m\u001b[1;33m\u001b[0m\u001b[1;33m\u001b[0m\u001b[0m\n\u001b[0m\u001b[0;32m    143\u001b[0m \u001b[1;33m\u001b[0m\u001b[0m\n\u001b[0;32m    144\u001b[0m         \u001b[1;31m# write a basic docstring:\u001b[0m\u001b[1;33m\u001b[0m\u001b[1;33m\u001b[0m\u001b[1;33m\u001b[0m\u001b[0m\n",
      "\u001b[1;32m<decorator-gen-104>\u001b[0m in \u001b[0;36mshebang\u001b[1;34m(self, line, cell)\u001b[0m\n",
      "\u001b[1;32m~\\Anaconda3\\lib\\site-packages\\IPython\\core\\magic.py\u001b[0m in \u001b[0;36m<lambda>\u001b[1;34m(f, *a, **k)\u001b[0m\n\u001b[0;32m    185\u001b[0m     \u001b[1;31m# but it's overkill for just that one bit of state.\u001b[0m\u001b[1;33m\u001b[0m\u001b[1;33m\u001b[0m\u001b[1;33m\u001b[0m\u001b[0m\n\u001b[0;32m    186\u001b[0m     \u001b[1;32mdef\u001b[0m \u001b[0mmagic_deco\u001b[0m\u001b[1;33m(\u001b[0m\u001b[0marg\u001b[0m\u001b[1;33m)\u001b[0m\u001b[1;33m:\u001b[0m\u001b[1;33m\u001b[0m\u001b[1;33m\u001b[0m\u001b[0m\n\u001b[1;32m--> 187\u001b[1;33m         \u001b[0mcall\u001b[0m \u001b[1;33m=\u001b[0m \u001b[1;32mlambda\u001b[0m \u001b[0mf\u001b[0m\u001b[1;33m,\u001b[0m \u001b[1;33m*\u001b[0m\u001b[0ma\u001b[0m\u001b[1;33m,\u001b[0m \u001b[1;33m**\u001b[0m\u001b[0mk\u001b[0m\u001b[1;33m:\u001b[0m \u001b[0mf\u001b[0m\u001b[1;33m(\u001b[0m\u001b[1;33m*\u001b[0m\u001b[0ma\u001b[0m\u001b[1;33m,\u001b[0m \u001b[1;33m**\u001b[0m\u001b[0mk\u001b[0m\u001b[1;33m)\u001b[0m\u001b[1;33m\u001b[0m\u001b[1;33m\u001b[0m\u001b[0m\n\u001b[0m\u001b[0;32m    188\u001b[0m \u001b[1;33m\u001b[0m\u001b[0m\n\u001b[0;32m    189\u001b[0m         \u001b[1;32mif\u001b[0m \u001b[0mcallable\u001b[0m\u001b[1;33m(\u001b[0m\u001b[0marg\u001b[0m\u001b[1;33m)\u001b[0m\u001b[1;33m:\u001b[0m\u001b[1;33m\u001b[0m\u001b[1;33m\u001b[0m\u001b[0m\n",
      "\u001b[1;32m~\\Anaconda3\\lib\\site-packages\\IPython\\core\\magics\\script.py\u001b[0m in \u001b[0;36mshebang\u001b[1;34m(self, line, cell)\u001b[0m\n\u001b[0;32m    243\u001b[0m             \u001b[0msys\u001b[0m\u001b[1;33m.\u001b[0m\u001b[0mstderr\u001b[0m\u001b[1;33m.\u001b[0m\u001b[0mflush\u001b[0m\u001b[1;33m(\u001b[0m\u001b[1;33m)\u001b[0m\u001b[1;33m\u001b[0m\u001b[1;33m\u001b[0m\u001b[0m\n\u001b[0;32m    244\u001b[0m         \u001b[1;32mif\u001b[0m \u001b[0margs\u001b[0m\u001b[1;33m.\u001b[0m\u001b[0mraise_error\u001b[0m \u001b[1;32mand\u001b[0m \u001b[0mp\u001b[0m\u001b[1;33m.\u001b[0m\u001b[0mreturncode\u001b[0m\u001b[1;33m!=\u001b[0m\u001b[1;36m0\u001b[0m\u001b[1;33m:\u001b[0m\u001b[1;33m\u001b[0m\u001b[1;33m\u001b[0m\u001b[0m\n\u001b[1;32m--> 245\u001b[1;33m             \u001b[1;32mraise\u001b[0m \u001b[0mCalledProcessError\u001b[0m\u001b[1;33m(\u001b[0m\u001b[0mp\u001b[0m\u001b[1;33m.\u001b[0m\u001b[0mreturncode\u001b[0m\u001b[1;33m,\u001b[0m \u001b[0mcell\u001b[0m\u001b[1;33m,\u001b[0m \u001b[0moutput\u001b[0m\u001b[1;33m=\u001b[0m\u001b[0mout\u001b[0m\u001b[1;33m,\u001b[0m \u001b[0mstderr\u001b[0m\u001b[1;33m=\u001b[0m\u001b[0merr\u001b[0m\u001b[1;33m)\u001b[0m\u001b[1;33m\u001b[0m\u001b[1;33m\u001b[0m\u001b[0m\n\u001b[0m\u001b[0;32m    246\u001b[0m \u001b[1;33m\u001b[0m\u001b[0m\n\u001b[0;32m    247\u001b[0m     \u001b[1;32mdef\u001b[0m \u001b[0m_run_script\u001b[0m\u001b[1;33m(\u001b[0m\u001b[0mself\u001b[0m\u001b[1;33m,\u001b[0m \u001b[0mp\u001b[0m\u001b[1;33m,\u001b[0m \u001b[0mcell\u001b[0m\u001b[1;33m,\u001b[0m \u001b[0mto_close\u001b[0m\u001b[1;33m)\u001b[0m\u001b[1;33m:\u001b[0m\u001b[1;33m\u001b[0m\u001b[1;33m\u001b[0m\u001b[0m\n",
      "\u001b[1;31mCalledProcessError\u001b[0m: Command 'b'git config --global core.editor vim \\n'' returned non-zero exit status 127."
     ]
    }
   ],
   "source": [
    "%%bash\n",
    "git config --global core.editor vim "
>>>>>>> Stashed changes
   ]
  },
  {
   "cell_type": "markdown",
   "metadata": {},
   "source": [
    "You can find out what you currently have with:"
   ]
  },
  {
   "cell_type": "code",
   "execution_count": 8,
   "metadata": {
    "attributes": {
     "classes": [
      " Bash"
     ],
     "id": ""
    }
   },
   "outputs": [
    {
     "output_type": "stream",
     "name": "stderr",
     "text": [
      "/usr/bin/bash: line 1: git: command not found\n"
     ]
    },
    {
     "output_type": "error",
     "ename": "CalledProcessError",
     "evalue": "Command 'b'git config --get core.editor\\n'' returned non-zero exit status 127.",
     "traceback": [
      "\u001b[1;31m---------------------------------------------------------------------------\u001b[0m",
      "\u001b[1;31mCalledProcessError\u001b[0m                        Traceback (most recent call last)",
      "\u001b[1;32m<ipython-input-8-a78e64bf016c>\u001b[0m in \u001b[0;36m<module>\u001b[1;34m\u001b[0m\n\u001b[1;32m----> 1\u001b[1;33m \u001b[0mget_ipython\u001b[0m\u001b[1;33m(\u001b[0m\u001b[1;33m)\u001b[0m\u001b[1;33m.\u001b[0m\u001b[0mrun_cell_magic\u001b[0m\u001b[1;33m(\u001b[0m\u001b[1;34m'bash'\u001b[0m\u001b[1;33m,\u001b[0m \u001b[1;34m''\u001b[0m\u001b[1;33m,\u001b[0m \u001b[1;34m'git config --get core.editor\\n'\u001b[0m\u001b[1;33m)\u001b[0m\u001b[1;33m\u001b[0m\u001b[1;33m\u001b[0m\u001b[0m\n\u001b[0m",
      "\u001b[1;32m~\\Anaconda3\\lib\\site-packages\\IPython\\core\\interactiveshell.py\u001b[0m in \u001b[0;36mrun_cell_magic\u001b[1;34m(self, magic_name, line, cell)\u001b[0m\n\u001b[0;32m   2380\u001b[0m             \u001b[1;32mwith\u001b[0m \u001b[0mself\u001b[0m\u001b[1;33m.\u001b[0m\u001b[0mbuiltin_trap\u001b[0m\u001b[1;33m:\u001b[0m\u001b[1;33m\u001b[0m\u001b[1;33m\u001b[0m\u001b[0m\n\u001b[0;32m   2381\u001b[0m                 \u001b[0margs\u001b[0m \u001b[1;33m=\u001b[0m \u001b[1;33m(\u001b[0m\u001b[0mmagic_arg_s\u001b[0m\u001b[1;33m,\u001b[0m \u001b[0mcell\u001b[0m\u001b[1;33m)\u001b[0m\u001b[1;33m\u001b[0m\u001b[1;33m\u001b[0m\u001b[0m\n\u001b[1;32m-> 2382\u001b[1;33m                 \u001b[0mresult\u001b[0m \u001b[1;33m=\u001b[0m \u001b[0mfn\u001b[0m\u001b[1;33m(\u001b[0m\u001b[1;33m*\u001b[0m\u001b[0margs\u001b[0m\u001b[1;33m,\u001b[0m \u001b[1;33m**\u001b[0m\u001b[0mkwargs\u001b[0m\u001b[1;33m)\u001b[0m\u001b[1;33m\u001b[0m\u001b[1;33m\u001b[0m\u001b[0m\n\u001b[0m\u001b[0;32m   2383\u001b[0m             \u001b[1;32mreturn\u001b[0m \u001b[0mresult\u001b[0m\u001b[1;33m\u001b[0m\u001b[1;33m\u001b[0m\u001b[0m\n\u001b[0;32m   2384\u001b[0m \u001b[1;33m\u001b[0m\u001b[0m\n",
      "\u001b[1;32m~\\Anaconda3\\lib\\site-packages\\IPython\\core\\magics\\script.py\u001b[0m in \u001b[0;36mnamed_script_magic\u001b[1;34m(line, cell)\u001b[0m\n\u001b[0;32m    140\u001b[0m             \u001b[1;32melse\u001b[0m\u001b[1;33m:\u001b[0m\u001b[1;33m\u001b[0m\u001b[1;33m\u001b[0m\u001b[0m\n\u001b[0;32m    141\u001b[0m                 \u001b[0mline\u001b[0m \u001b[1;33m=\u001b[0m \u001b[0mscript\u001b[0m\u001b[1;33m\u001b[0m\u001b[1;33m\u001b[0m\u001b[0m\n\u001b[1;32m--> 142\u001b[1;33m             \u001b[1;32mreturn\u001b[0m \u001b[0mself\u001b[0m\u001b[1;33m.\u001b[0m\u001b[0mshebang\u001b[0m\u001b[1;33m(\u001b[0m\u001b[0mline\u001b[0m\u001b[1;33m,\u001b[0m \u001b[0mcell\u001b[0m\u001b[1;33m)\u001b[0m\u001b[1;33m\u001b[0m\u001b[1;33m\u001b[0m\u001b[0m\n\u001b[0m\u001b[0;32m    143\u001b[0m \u001b[1;33m\u001b[0m\u001b[0m\n\u001b[0;32m    144\u001b[0m         \u001b[1;31m# write a basic docstring:\u001b[0m\u001b[1;33m\u001b[0m\u001b[1;33m\u001b[0m\u001b[1;33m\u001b[0m\u001b[0m\n",
      "\u001b[1;32m<decorator-gen-104>\u001b[0m in \u001b[0;36mshebang\u001b[1;34m(self, line, cell)\u001b[0m\n",
      "\u001b[1;32m~\\Anaconda3\\lib\\site-packages\\IPython\\core\\magic.py\u001b[0m in \u001b[0;36m<lambda>\u001b[1;34m(f, *a, **k)\u001b[0m\n\u001b[0;32m    185\u001b[0m     \u001b[1;31m# but it's overkill for just that one bit of state.\u001b[0m\u001b[1;33m\u001b[0m\u001b[1;33m\u001b[0m\u001b[1;33m\u001b[0m\u001b[0m\n\u001b[0;32m    186\u001b[0m     \u001b[1;32mdef\u001b[0m \u001b[0mmagic_deco\u001b[0m\u001b[1;33m(\u001b[0m\u001b[0marg\u001b[0m\u001b[1;33m)\u001b[0m\u001b[1;33m:\u001b[0m\u001b[1;33m\u001b[0m\u001b[1;33m\u001b[0m\u001b[0m\n\u001b[1;32m--> 187\u001b[1;33m         \u001b[0mcall\u001b[0m \u001b[1;33m=\u001b[0m \u001b[1;32mlambda\u001b[0m \u001b[0mf\u001b[0m\u001b[1;33m,\u001b[0m \u001b[1;33m*\u001b[0m\u001b[0ma\u001b[0m\u001b[1;33m,\u001b[0m \u001b[1;33m**\u001b[0m\u001b[0mk\u001b[0m\u001b[1;33m:\u001b[0m \u001b[0mf\u001b[0m\u001b[1;33m(\u001b[0m\u001b[1;33m*\u001b[0m\u001b[0ma\u001b[0m\u001b[1;33m,\u001b[0m \u001b[1;33m**\u001b[0m\u001b[0mk\u001b[0m\u001b[1;33m)\u001b[0m\u001b[1;33m\u001b[0m\u001b[1;33m\u001b[0m\u001b[0m\n\u001b[0m\u001b[0;32m    188\u001b[0m \u001b[1;33m\u001b[0m\u001b[0m\n\u001b[0;32m    189\u001b[0m         \u001b[1;32mif\u001b[0m \u001b[0mcallable\u001b[0m\u001b[1;33m(\u001b[0m\u001b[0marg\u001b[0m\u001b[1;33m)\u001b[0m\u001b[1;33m:\u001b[0m\u001b[1;33m\u001b[0m\u001b[1;33m\u001b[0m\u001b[0m\n",
      "\u001b[1;32m~\\Anaconda3\\lib\\site-packages\\IPython\\core\\magics\\script.py\u001b[0m in \u001b[0;36mshebang\u001b[1;34m(self, line, cell)\u001b[0m\n\u001b[0;32m    243\u001b[0m             \u001b[0msys\u001b[0m\u001b[1;33m.\u001b[0m\u001b[0mstderr\u001b[0m\u001b[1;33m.\u001b[0m\u001b[0mflush\u001b[0m\u001b[1;33m(\u001b[0m\u001b[1;33m)\u001b[0m\u001b[1;33m\u001b[0m\u001b[1;33m\u001b[0m\u001b[0m\n\u001b[0;32m    244\u001b[0m         \u001b[1;32mif\u001b[0m \u001b[0margs\u001b[0m\u001b[1;33m.\u001b[0m\u001b[0mraise_error\u001b[0m \u001b[1;32mand\u001b[0m \u001b[0mp\u001b[0m\u001b[1;33m.\u001b[0m\u001b[0mreturncode\u001b[0m\u001b[1;33m!=\u001b[0m\u001b[1;36m0\u001b[0m\u001b[1;33m:\u001b[0m\u001b[1;33m\u001b[0m\u001b[1;33m\u001b[0m\u001b[0m\n\u001b[1;32m--> 245\u001b[1;33m             \u001b[1;32mraise\u001b[0m \u001b[0mCalledProcessError\u001b[0m\u001b[1;33m(\u001b[0m\u001b[0mp\u001b[0m\u001b[1;33m.\u001b[0m\u001b[0mreturncode\u001b[0m\u001b[1;33m,\u001b[0m \u001b[0mcell\u001b[0m\u001b[1;33m,\u001b[0m \u001b[0moutput\u001b[0m\u001b[1;33m=\u001b[0m\u001b[0mout\u001b[0m\u001b[1;33m,\u001b[0m \u001b[0mstderr\u001b[0m\u001b[1;33m=\u001b[0m\u001b[0merr\u001b[0m\u001b[1;33m)\u001b[0m\u001b[1;33m\u001b[0m\u001b[1;33m\u001b[0m\u001b[0m\n\u001b[0m\u001b[0;32m    246\u001b[0m \u001b[1;33m\u001b[0m\u001b[0m\n\u001b[0;32m    247\u001b[0m     \u001b[1;32mdef\u001b[0m \u001b[0m_run_script\u001b[0m\u001b[1;33m(\u001b[0m\u001b[0mself\u001b[0m\u001b[1;33m,\u001b[0m \u001b[0mp\u001b[0m\u001b[1;33m,\u001b[0m \u001b[0mcell\u001b[0m\u001b[1;33m,\u001b[0m \u001b[0mto_close\u001b[0m\u001b[1;33m)\u001b[0m\u001b[1;33m:\u001b[0m\u001b[1;33m\u001b[0m\u001b[1;33m\u001b[0m\u001b[0m\n",
      "\u001b[1;31mCalledProcessError\u001b[0m: Command 'b'git config --get core.editor\\n'' returned non-zero exit status 127."
     ]
    }
   ],
   "source": [
    "%%bash\n",
    "git config --get core.editor"
   ]
  },
  {
   "cell_type": "markdown",
   "metadata": {},
   "source": [
    "To configure Notepad++ on Windows you'll need something like the below, ask a demonstrator to help for your machine."
   ]
  },
  {
   "cell_type": "markdown",
   "metadata": {
    "attributes": {
     "classes": [
      " Bash"
     ],
     "id": ""
    }
   },
   "source": [
    "```bash\n",
    "git config --global core.editor \"'C:/Program Files (x86)/Notepad++/notepad++.exe' -multiInst -nosession -noPlugin\"\n",
    "```"
   ]
  },
  {
   "cell_type": "markdown",
   "metadata": {},
   "source": [
    "I'm going to be using `vim` as my editor, but you can use whatever editor you prefer. (Windows users could use \"Notepad++\", Mac users could use \"textmate\" or \"Sublime Text\", linux users could use `vim`, `nano` or `emacs`.)"
   ]
  },
  {
   "cell_type": "markdown",
   "metadata": {},
   "source": [
    "### Git log\n",
    "\n",
    "Git now has one change in its history:"
   ]
  },
  {
   "cell_type": "code",
   "execution_count": 9,
   "metadata": {
    "attributes": {
     "classes": [
      " Bash"
     ],
     "id": ""
    }
   },
   "outputs": [
    {
     "output_type": "stream",
     "name": "stderr",
     "text": [
      "/usr/bin/bash: line 1: git: command not found\n"
     ]
    },
    {
     "output_type": "error",
     "ename": "CalledProcessError",
     "evalue": "Command 'b'git log\\n'' returned non-zero exit status 127.",
     "traceback": [
      "\u001b[1;31m---------------------------------------------------------------------------\u001b[0m",
      "\u001b[1;31mCalledProcessError\u001b[0m                        Traceback (most recent call last)",
      "\u001b[1;32m<ipython-input-9-a5fac2b86b60>\u001b[0m in \u001b[0;36m<module>\u001b[1;34m\u001b[0m\n\u001b[1;32m----> 1\u001b[1;33m \u001b[0mget_ipython\u001b[0m\u001b[1;33m(\u001b[0m\u001b[1;33m)\u001b[0m\u001b[1;33m.\u001b[0m\u001b[0mrun_cell_magic\u001b[0m\u001b[1;33m(\u001b[0m\u001b[1;34m'bash'\u001b[0m\u001b[1;33m,\u001b[0m \u001b[1;34m''\u001b[0m\u001b[1;33m,\u001b[0m \u001b[1;34m'git log\\n'\u001b[0m\u001b[1;33m)\u001b[0m\u001b[1;33m\u001b[0m\u001b[1;33m\u001b[0m\u001b[0m\n\u001b[0m",
      "\u001b[1;32m~\\Anaconda3\\lib\\site-packages\\IPython\\core\\interactiveshell.py\u001b[0m in \u001b[0;36mrun_cell_magic\u001b[1;34m(self, magic_name, line, cell)\u001b[0m\n\u001b[0;32m   2380\u001b[0m             \u001b[1;32mwith\u001b[0m \u001b[0mself\u001b[0m\u001b[1;33m.\u001b[0m\u001b[0mbuiltin_trap\u001b[0m\u001b[1;33m:\u001b[0m\u001b[1;33m\u001b[0m\u001b[1;33m\u001b[0m\u001b[0m\n\u001b[0;32m   2381\u001b[0m                 \u001b[0margs\u001b[0m \u001b[1;33m=\u001b[0m \u001b[1;33m(\u001b[0m\u001b[0mmagic_arg_s\u001b[0m\u001b[1;33m,\u001b[0m \u001b[0mcell\u001b[0m\u001b[1;33m)\u001b[0m\u001b[1;33m\u001b[0m\u001b[1;33m\u001b[0m\u001b[0m\n\u001b[1;32m-> 2382\u001b[1;33m                 \u001b[0mresult\u001b[0m \u001b[1;33m=\u001b[0m \u001b[0mfn\u001b[0m\u001b[1;33m(\u001b[0m\u001b[1;33m*\u001b[0m\u001b[0margs\u001b[0m\u001b[1;33m,\u001b[0m \u001b[1;33m**\u001b[0m\u001b[0mkwargs\u001b[0m\u001b[1;33m)\u001b[0m\u001b[1;33m\u001b[0m\u001b[1;33m\u001b[0m\u001b[0m\n\u001b[0m\u001b[0;32m   2383\u001b[0m             \u001b[1;32mreturn\u001b[0m \u001b[0mresult\u001b[0m\u001b[1;33m\u001b[0m\u001b[1;33m\u001b[0m\u001b[0m\n\u001b[0;32m   2384\u001b[0m \u001b[1;33m\u001b[0m\u001b[0m\n",
      "\u001b[1;32m~\\Anaconda3\\lib\\site-packages\\IPython\\core\\magics\\script.py\u001b[0m in \u001b[0;36mnamed_script_magic\u001b[1;34m(line, cell)\u001b[0m\n\u001b[0;32m    140\u001b[0m             \u001b[1;32melse\u001b[0m\u001b[1;33m:\u001b[0m\u001b[1;33m\u001b[0m\u001b[1;33m\u001b[0m\u001b[0m\n\u001b[0;32m    141\u001b[0m                 \u001b[0mline\u001b[0m \u001b[1;33m=\u001b[0m \u001b[0mscript\u001b[0m\u001b[1;33m\u001b[0m\u001b[1;33m\u001b[0m\u001b[0m\n\u001b[1;32m--> 142\u001b[1;33m             \u001b[1;32mreturn\u001b[0m \u001b[0mself\u001b[0m\u001b[1;33m.\u001b[0m\u001b[0mshebang\u001b[0m\u001b[1;33m(\u001b[0m\u001b[0mline\u001b[0m\u001b[1;33m,\u001b[0m \u001b[0mcell\u001b[0m\u001b[1;33m)\u001b[0m\u001b[1;33m\u001b[0m\u001b[1;33m\u001b[0m\u001b[0m\n\u001b[0m\u001b[0;32m    143\u001b[0m \u001b[1;33m\u001b[0m\u001b[0m\n\u001b[0;32m    144\u001b[0m         \u001b[1;31m# write a basic docstring:\u001b[0m\u001b[1;33m\u001b[0m\u001b[1;33m\u001b[0m\u001b[1;33m\u001b[0m\u001b[0m\n",
      "\u001b[1;32m<decorator-gen-104>\u001b[0m in \u001b[0;36mshebang\u001b[1;34m(self, line, cell)\u001b[0m\n",
      "\u001b[1;32m~\\Anaconda3\\lib\\site-packages\\IPython\\core\\magic.py\u001b[0m in \u001b[0;36m<lambda>\u001b[1;34m(f, *a, **k)\u001b[0m\n\u001b[0;32m    185\u001b[0m     \u001b[1;31m# but it's overkill for just that one bit of state.\u001b[0m\u001b[1;33m\u001b[0m\u001b[1;33m\u001b[0m\u001b[1;33m\u001b[0m\u001b[0m\n\u001b[0;32m    186\u001b[0m     \u001b[1;32mdef\u001b[0m \u001b[0mmagic_deco\u001b[0m\u001b[1;33m(\u001b[0m\u001b[0marg\u001b[0m\u001b[1;33m)\u001b[0m\u001b[1;33m:\u001b[0m\u001b[1;33m\u001b[0m\u001b[1;33m\u001b[0m\u001b[0m\n\u001b[1;32m--> 187\u001b[1;33m         \u001b[0mcall\u001b[0m \u001b[1;33m=\u001b[0m \u001b[1;32mlambda\u001b[0m \u001b[0mf\u001b[0m\u001b[1;33m,\u001b[0m \u001b[1;33m*\u001b[0m\u001b[0ma\u001b[0m\u001b[1;33m,\u001b[0m \u001b[1;33m**\u001b[0m\u001b[0mk\u001b[0m\u001b[1;33m:\u001b[0m \u001b[0mf\u001b[0m\u001b[1;33m(\u001b[0m\u001b[1;33m*\u001b[0m\u001b[0ma\u001b[0m\u001b[1;33m,\u001b[0m \u001b[1;33m**\u001b[0m\u001b[0mk\u001b[0m\u001b[1;33m)\u001b[0m\u001b[1;33m\u001b[0m\u001b[1;33m\u001b[0m\u001b[0m\n\u001b[0m\u001b[0;32m    188\u001b[0m \u001b[1;33m\u001b[0m\u001b[0m\n\u001b[0;32m    189\u001b[0m         \u001b[1;32mif\u001b[0m \u001b[0mcallable\u001b[0m\u001b[1;33m(\u001b[0m\u001b[0marg\u001b[0m\u001b[1;33m)\u001b[0m\u001b[1;33m:\u001b[0m\u001b[1;33m\u001b[0m\u001b[1;33m\u001b[0m\u001b[0m\n",
      "\u001b[1;32m~\\Anaconda3\\lib\\site-packages\\IPython\\core\\magics\\script.py\u001b[0m in \u001b[0;36mshebang\u001b[1;34m(self, line, cell)\u001b[0m\n\u001b[0;32m    243\u001b[0m             \u001b[0msys\u001b[0m\u001b[1;33m.\u001b[0m\u001b[0mstderr\u001b[0m\u001b[1;33m.\u001b[0m\u001b[0mflush\u001b[0m\u001b[1;33m(\u001b[0m\u001b[1;33m)\u001b[0m\u001b[1;33m\u001b[0m\u001b[1;33m\u001b[0m\u001b[0m\n\u001b[0;32m    244\u001b[0m         \u001b[1;32mif\u001b[0m \u001b[0margs\u001b[0m\u001b[1;33m.\u001b[0m\u001b[0mraise_error\u001b[0m \u001b[1;32mand\u001b[0m \u001b[0mp\u001b[0m\u001b[1;33m.\u001b[0m\u001b[0mreturncode\u001b[0m\u001b[1;33m!=\u001b[0m\u001b[1;36m0\u001b[0m\u001b[1;33m:\u001b[0m\u001b[1;33m\u001b[0m\u001b[1;33m\u001b[0m\u001b[0m\n\u001b[1;32m--> 245\u001b[1;33m             \u001b[1;32mraise\u001b[0m \u001b[0mCalledProcessError\u001b[0m\u001b[1;33m(\u001b[0m\u001b[0mp\u001b[0m\u001b[1;33m.\u001b[0m\u001b[0mreturncode\u001b[0m\u001b[1;33m,\u001b[0m \u001b[0mcell\u001b[0m\u001b[1;33m,\u001b[0m \u001b[0moutput\u001b[0m\u001b[1;33m=\u001b[0m\u001b[0mout\u001b[0m\u001b[1;33m,\u001b[0m \u001b[0mstderr\u001b[0m\u001b[1;33m=\u001b[0m\u001b[0merr\u001b[0m\u001b[1;33m)\u001b[0m\u001b[1;33m\u001b[0m\u001b[1;33m\u001b[0m\u001b[0m\n\u001b[0m\u001b[0;32m    246\u001b[0m \u001b[1;33m\u001b[0m\u001b[0m\n\u001b[0;32m    247\u001b[0m     \u001b[1;32mdef\u001b[0m \u001b[0m_run_script\u001b[0m\u001b[1;33m(\u001b[0m\u001b[0mself\u001b[0m\u001b[1;33m,\u001b[0m \u001b[0mp\u001b[0m\u001b[1;33m,\u001b[0m \u001b[0mcell\u001b[0m\u001b[1;33m,\u001b[0m \u001b[0mto_close\u001b[0m\u001b[1;33m)\u001b[0m\u001b[1;33m:\u001b[0m\u001b[1;33m\u001b[0m\u001b[1;33m\u001b[0m\u001b[0m\n",
      "\u001b[1;31mCalledProcessError\u001b[0m: Command 'b'git log\\n'' returned non-zero exit status 127."
     ]
    }
   ],
   "source": [
    "%%bash\n",
    "git log"
   ]
  },
  {
   "cell_type": "markdown",
   "metadata": {},
   "source": [
    "You can see the commit message, author, and date..."
   ]
  },
  {
   "cell_type": "markdown",
   "metadata": {},
   "source": [
    "### Hash Codes\n",
    "\n",
    "The commit \"hash code\", e.g.\n",
    "\n",
    "`c438f1716b2515563e03e82231acbae7dd4f4656`\n",
    "\n",
    "is a unique identifier of that particular revision. \n",
    "\n",
    "(This is a really long code, but whenever you need to use it, you can just use the first few characters, however many characters is long enough to make it unique, `c438` for example. )"
   ]
  },
  {
   "cell_type": "markdown",
   "metadata": {},
   "source": [
    "### Nothing to see here\n",
    "\n",
    "Note that git will now tell us that our \"working directory\" is up-to-date with the repository: there are no changes to the files that aren't recorded in the repository history:"
   ]
  },
  {
   "cell_type": "code",
   "execution_count": 10,
   "metadata": {
    "attributes": {
     "classes": [
      " Bash"
     ],
     "id": ""
    }
   },
   "outputs": [
    {
     "output_type": "stream",
     "name": "stderr",
     "text": [
      "/usr/bin/bash: line 1: git: command not found\n"
     ]
    },
    {
     "output_type": "error",
     "ename": "CalledProcessError",
     "evalue": "Command 'b'git status\\n'' returned non-zero exit status 127.",
     "traceback": [
      "\u001b[1;31m---------------------------------------------------------------------------\u001b[0m",
      "\u001b[1;31mCalledProcessError\u001b[0m                        Traceback (most recent call last)",
      "\u001b[1;32m<ipython-input-10-5089e31d3e59>\u001b[0m in \u001b[0;36m<module>\u001b[1;34m\u001b[0m\n\u001b[1;32m----> 1\u001b[1;33m \u001b[0mget_ipython\u001b[0m\u001b[1;33m(\u001b[0m\u001b[1;33m)\u001b[0m\u001b[1;33m.\u001b[0m\u001b[0mrun_cell_magic\u001b[0m\u001b[1;33m(\u001b[0m\u001b[1;34m'bash'\u001b[0m\u001b[1;33m,\u001b[0m \u001b[1;34m''\u001b[0m\u001b[1;33m,\u001b[0m \u001b[1;34m'git status\\n'\u001b[0m\u001b[1;33m)\u001b[0m\u001b[1;33m\u001b[0m\u001b[1;33m\u001b[0m\u001b[0m\n\u001b[0m",
      "\u001b[1;32m~\\Anaconda3\\lib\\site-packages\\IPython\\core\\interactiveshell.py\u001b[0m in \u001b[0;36mrun_cell_magic\u001b[1;34m(self, magic_name, line, cell)\u001b[0m\n\u001b[0;32m   2380\u001b[0m             \u001b[1;32mwith\u001b[0m \u001b[0mself\u001b[0m\u001b[1;33m.\u001b[0m\u001b[0mbuiltin_trap\u001b[0m\u001b[1;33m:\u001b[0m\u001b[1;33m\u001b[0m\u001b[1;33m\u001b[0m\u001b[0m\n\u001b[0;32m   2381\u001b[0m                 \u001b[0margs\u001b[0m \u001b[1;33m=\u001b[0m \u001b[1;33m(\u001b[0m\u001b[0mmagic_arg_s\u001b[0m\u001b[1;33m,\u001b[0m \u001b[0mcell\u001b[0m\u001b[1;33m)\u001b[0m\u001b[1;33m\u001b[0m\u001b[1;33m\u001b[0m\u001b[0m\n\u001b[1;32m-> 2382\u001b[1;33m                 \u001b[0mresult\u001b[0m \u001b[1;33m=\u001b[0m \u001b[0mfn\u001b[0m\u001b[1;33m(\u001b[0m\u001b[1;33m*\u001b[0m\u001b[0margs\u001b[0m\u001b[1;33m,\u001b[0m \u001b[1;33m**\u001b[0m\u001b[0mkwargs\u001b[0m\u001b[1;33m)\u001b[0m\u001b[1;33m\u001b[0m\u001b[1;33m\u001b[0m\u001b[0m\n\u001b[0m\u001b[0;32m   2383\u001b[0m             \u001b[1;32mreturn\u001b[0m \u001b[0mresult\u001b[0m\u001b[1;33m\u001b[0m\u001b[1;33m\u001b[0m\u001b[0m\n\u001b[0;32m   2384\u001b[0m \u001b[1;33m\u001b[0m\u001b[0m\n",
      "\u001b[1;32m~\\Anaconda3\\lib\\site-packages\\IPython\\core\\magics\\script.py\u001b[0m in \u001b[0;36mnamed_script_magic\u001b[1;34m(line, cell)\u001b[0m\n\u001b[0;32m    140\u001b[0m             \u001b[1;32melse\u001b[0m\u001b[1;33m:\u001b[0m\u001b[1;33m\u001b[0m\u001b[1;33m\u001b[0m\u001b[0m\n\u001b[0;32m    141\u001b[0m                 \u001b[0mline\u001b[0m \u001b[1;33m=\u001b[0m \u001b[0mscript\u001b[0m\u001b[1;33m\u001b[0m\u001b[1;33m\u001b[0m\u001b[0m\n\u001b[1;32m--> 142\u001b[1;33m             \u001b[1;32mreturn\u001b[0m \u001b[0mself\u001b[0m\u001b[1;33m.\u001b[0m\u001b[0mshebang\u001b[0m\u001b[1;33m(\u001b[0m\u001b[0mline\u001b[0m\u001b[1;33m,\u001b[0m \u001b[0mcell\u001b[0m\u001b[1;33m)\u001b[0m\u001b[1;33m\u001b[0m\u001b[1;33m\u001b[0m\u001b[0m\n\u001b[0m\u001b[0;32m    143\u001b[0m \u001b[1;33m\u001b[0m\u001b[0m\n\u001b[0;32m    144\u001b[0m         \u001b[1;31m# write a basic docstring:\u001b[0m\u001b[1;33m\u001b[0m\u001b[1;33m\u001b[0m\u001b[1;33m\u001b[0m\u001b[0m\n",
      "\u001b[1;32m<decorator-gen-104>\u001b[0m in \u001b[0;36mshebang\u001b[1;34m(self, line, cell)\u001b[0m\n",
      "\u001b[1;32m~\\Anaconda3\\lib\\site-packages\\IPython\\core\\magic.py\u001b[0m in \u001b[0;36m<lambda>\u001b[1;34m(f, *a, **k)\u001b[0m\n\u001b[0;32m    185\u001b[0m     \u001b[1;31m# but it's overkill for just that one bit of state.\u001b[0m\u001b[1;33m\u001b[0m\u001b[1;33m\u001b[0m\u001b[1;33m\u001b[0m\u001b[0m\n\u001b[0;32m    186\u001b[0m     \u001b[1;32mdef\u001b[0m \u001b[0mmagic_deco\u001b[0m\u001b[1;33m(\u001b[0m\u001b[0marg\u001b[0m\u001b[1;33m)\u001b[0m\u001b[1;33m:\u001b[0m\u001b[1;33m\u001b[0m\u001b[1;33m\u001b[0m\u001b[0m\n\u001b[1;32m--> 187\u001b[1;33m         \u001b[0mcall\u001b[0m \u001b[1;33m=\u001b[0m \u001b[1;32mlambda\u001b[0m \u001b[0mf\u001b[0m\u001b[1;33m,\u001b[0m \u001b[1;33m*\u001b[0m\u001b[0ma\u001b[0m\u001b[1;33m,\u001b[0m \u001b[1;33m**\u001b[0m\u001b[0mk\u001b[0m\u001b[1;33m:\u001b[0m \u001b[0mf\u001b[0m\u001b[1;33m(\u001b[0m\u001b[1;33m*\u001b[0m\u001b[0ma\u001b[0m\u001b[1;33m,\u001b[0m \u001b[1;33m**\u001b[0m\u001b[0mk\u001b[0m\u001b[1;33m)\u001b[0m\u001b[1;33m\u001b[0m\u001b[1;33m\u001b[0m\u001b[0m\n\u001b[0m\u001b[0;32m    188\u001b[0m \u001b[1;33m\u001b[0m\u001b[0m\n\u001b[0;32m    189\u001b[0m         \u001b[1;32mif\u001b[0m \u001b[0mcallable\u001b[0m\u001b[1;33m(\u001b[0m\u001b[0marg\u001b[0m\u001b[1;33m)\u001b[0m\u001b[1;33m:\u001b[0m\u001b[1;33m\u001b[0m\u001b[1;33m\u001b[0m\u001b[0m\n",
      "\u001b[1;32m~\\Anaconda3\\lib\\site-packages\\IPython\\core\\magics\\script.py\u001b[0m in \u001b[0;36mshebang\u001b[1;34m(self, line, cell)\u001b[0m\n\u001b[0;32m    243\u001b[0m             \u001b[0msys\u001b[0m\u001b[1;33m.\u001b[0m\u001b[0mstderr\u001b[0m\u001b[1;33m.\u001b[0m\u001b[0mflush\u001b[0m\u001b[1;33m(\u001b[0m\u001b[1;33m)\u001b[0m\u001b[1;33m\u001b[0m\u001b[1;33m\u001b[0m\u001b[0m\n\u001b[0;32m    244\u001b[0m         \u001b[1;32mif\u001b[0m \u001b[0margs\u001b[0m\u001b[1;33m.\u001b[0m\u001b[0mraise_error\u001b[0m \u001b[1;32mand\u001b[0m \u001b[0mp\u001b[0m\u001b[1;33m.\u001b[0m\u001b[0mreturncode\u001b[0m\u001b[1;33m!=\u001b[0m\u001b[1;36m0\u001b[0m\u001b[1;33m:\u001b[0m\u001b[1;33m\u001b[0m\u001b[1;33m\u001b[0m\u001b[0m\n\u001b[1;32m--> 245\u001b[1;33m             \u001b[1;32mraise\u001b[0m \u001b[0mCalledProcessError\u001b[0m\u001b[1;33m(\u001b[0m\u001b[0mp\u001b[0m\u001b[1;33m.\u001b[0m\u001b[0mreturncode\u001b[0m\u001b[1;33m,\u001b[0m \u001b[0mcell\u001b[0m\u001b[1;33m,\u001b[0m \u001b[0moutput\u001b[0m\u001b[1;33m=\u001b[0m\u001b[0mout\u001b[0m\u001b[1;33m,\u001b[0m \u001b[0mstderr\u001b[0m\u001b[1;33m=\u001b[0m\u001b[0merr\u001b[0m\u001b[1;33m)\u001b[0m\u001b[1;33m\u001b[0m\u001b[1;33m\u001b[0m\u001b[0m\n\u001b[0m\u001b[0;32m    246\u001b[0m \u001b[1;33m\u001b[0m\u001b[0m\n\u001b[0;32m    247\u001b[0m     \u001b[1;32mdef\u001b[0m \u001b[0m_run_script\u001b[0m\u001b[1;33m(\u001b[0m\u001b[0mself\u001b[0m\u001b[1;33m,\u001b[0m \u001b[0mp\u001b[0m\u001b[1;33m,\u001b[0m \u001b[0mcell\u001b[0m\u001b[1;33m,\u001b[0m \u001b[0mto_close\u001b[0m\u001b[1;33m)\u001b[0m\u001b[1;33m:\u001b[0m\u001b[1;33m\u001b[0m\u001b[1;33m\u001b[0m\u001b[0m\n",
      "\u001b[1;31mCalledProcessError\u001b[0m: Command 'b'git status\\n'' returned non-zero exit status 127."
     ]
    }
   ],
   "source": [
    "%%bash\n",
    "git status"
   ]
  },
  {
   "cell_type": "markdown",
   "metadata": {},
   "source": [
    "Let's edit the file again:\n",
    "\n",
    "    vim test.md"
   ]
  },
  {
   "cell_type": "code",
   "execution_count": 10,
   "metadata": {},
   "outputs": [
    {
     "name": "stdout",
     "output_type": "stream",
     "text": [
      "Overwriting test.md\n"
     ]
    }
   ],
   "source": [
    "%%writefile test.md\n",
    "Mountains in the UK   \n",
    "===================   \n",
    "England is not very mountainous.   \n",
    "But has some tall hills, and maybe a mountain or two depending on your definition.\n",
    "\n",
    "Mount Fictional, in Barsetshire, U.K. is the tallest mountain in the world.\n"
   ]
  },
  {
   "cell_type": "code",
   "execution_count": 11,
   "metadata": {
    "attributes": {
     "classes": [
      " Bash"
     ],
     "id": ""
    }
   },
   "outputs": [
    {
     "name": "stdout",
     "output_type": "stream",
     "text": [
      "Mountains in the UK   \r\n",
      "===================   \r\n",
      "England is not very mountainous.   \r\n",
      "But has some tall hills, and maybe a mountain or two depending on your definition.\r\n",
      "\r\n",
      "Mount Fictional, in Barsetshire, U.K. is the tallest mountain in the world.\r\n"
     ]
    }
   ],
   "source": [
    "cat test.md"
   ]
  },
  {
   "cell_type": "markdown",
   "metadata": {},
   "source": [
    "### Unstaged changes"
   ]
  },
  {
   "cell_type": "code",
   "execution_count": 12,
   "metadata": {
    "attributes": {
     "classes": [
      " Bash"
     ],
     "id": ""
    }
   },
   "outputs": [
    {
     "name": "stdout",
     "output_type": "stream",
     "text": [
      "On branch master\n",
      "Changes not staged for commit:\n",
      "  (use \"git add <file>...\" to update what will be committed)\n",
      "  (use \"git restore <file>...\" to discard changes in working directory)\n",
      "\tmodified:   test.md\n",
      "\n",
      "no changes added to commit (use \"git add\" and/or \"git commit -a\")\n"
     ]
    }
   ],
   "source": [
    "%%bash\n",
    "git status"
   ]
  },
  {
   "cell_type": "markdown",
   "metadata": {},
   "source": [
    "We can now see that there is a change to \"test.md\" which is currently \"not staged for commit\". What does this mean? \n",
    "\n",
    "If we do a `git commit` now *nothing will happen*. \n",
    "\n",
    "Git will only commit changes to files that you choose to include in each commit.\n",
    "\n",
    "This is a difference from other version control systems, where committing will affect all changed files. "
   ]
  },
  {
   "cell_type": "markdown",
   "metadata": {},
   "source": [
    "We can see the differences in the file with:"
   ]
  },
  {
   "cell_type": "code",
   "execution_count": 13,
   "metadata": {},
   "outputs": [
    {
     "name": "stdout",
     "output_type": "stream",
     "text": [
      "diff --git a/test.md b/test.md\n",
      "index a1f85df..3a2f7b0 100644\n",
      "--- a/test.md\n",
      "+++ b/test.md\n",
      "@@ -2,3 +2,5 @@ Mountains in the UK\n",
      " ===================   \n",
      " England is not very mountainous.   \n",
      " But has some tall hills, and maybe a mountain or two depending on your definition.\n",
      "+\n",
      "+Mount Fictional, in Barsetshire, U.K. is the tallest mountain in the world.\n"
     ]
    }
   ],
   "source": [
    "%%bash\n",
    "git diff"
   ]
  },
  {
   "cell_type": "markdown",
   "metadata": {},
   "source": [
    "Deleted lines are prefixed with a minus, added lines prefixed with a plus."
   ]
  },
  {
   "cell_type": "markdown",
   "metadata": {},
   "source": [
    "### Staging a file to be included in the next commit\n",
    "\n",
    "To include the file in the next commit, we have a few choices. This is one of the things to be careful of with git: there are lots of ways to do similar things, and it can be hard to keep track of them all."
   ]
  },
  {
   "cell_type": "code",
   "execution_count": 14,
   "metadata": {
    "attributes": {
     "classes": [
      " Bash"
     ],
     "id": ""
    }
   },
   "outputs": [],
   "source": [
    "%%bash\n",
    "git add --update"
   ]
  },
  {
   "cell_type": "markdown",
   "metadata": {},
   "source": [
    "This says \"include in the next commit, all files which have ever been included before\". \n",
    "\n",
    "Note that `git add` is the command we use to introduce git to a new file, but also the command we use to \"stage\" a file to be included in the next commit. "
   ]
  },
  {
   "cell_type": "markdown",
   "metadata": {},
   "source": [
    "### The staging area\n",
    "\n",
    "The \"staging area\" or \"index\" is the git jargon for the place which contains the list of changes which will be included in the next commit.\n",
    "\n",
    "You can include specific changes to specific files with `git add`, commit them, add some more files, and commit them. (You can even add specific changes within a file to be included in the index.)"
   ]
  },
  {
   "cell_type": "markdown",
   "metadata": {},
   "source": [
    "### Message Sequence Charts"
   ]
  },
  {
   "cell_type": "markdown",
   "metadata": {},
   "source": [
    "In order to illustrate the behaviour of Git, it will be useful to be able to generate figures in Python\n",
    "of a \"message sequence chart\" flavour."
   ]
  },
  {
   "cell_type": "markdown",
   "metadata": {},
   "source": [
    "There's a nice online tool to do this, called \"Message Sequence Charts\"."
   ]
  },
  {
   "cell_type": "markdown",
   "metadata": {},
   "source": [
    "Have a look at https://www.websequencediagrams.com"
   ]
  },
  {
   "cell_type": "markdown",
   "metadata": {},
   "source": [
    "Instead of just showing you these diagrams, I'm showing you in this notebook how I make them.\n",
    "This is part of our \"reproducible computing\" approach; always generating all our figures from code."
   ]
  },
  {
   "cell_type": "markdown",
   "metadata": {},
   "source": [
    "Here's some quick code in the Notebook to download and display an MSC illustration, using the Web Sequence Diagrams API:"
   ]
  },
  {
   "cell_type": "code",
   "execution_count": 15,
   "metadata": {},
   "outputs": [
    {
     "name": "stdout",
     "output_type": "stream",
     "text": [
      "Writing wsd.py\n"
     ]
    }
   ],
   "source": [
    "%%writefile wsd.py\n",
    "import requests\n",
    "import re\n",
    "import IPython\n",
    "\n",
    "def wsd(code):\n",
    "    response = requests.post(\"http://www.websequencediagrams.com/index.php\", data={\n",
    "            'message': code,\n",
    "            'apiVersion': 1,\n",
    "        })\n",
    "    expr = re.compile(\"(\\?(img|pdf|png|svg)=[a-zA-Z0-9]+)\")\n",
    "    m = expr.search(response.text)\n",
    "    if m == None:\n",
    "        print(\"Invalid response from server.\")\n",
    "        return False\n",
    "                            \n",
    "    image=requests.get(\"http://www.websequencediagrams.com/\" + m.group(0))\n",
    "    return IPython.core.display.Image(image.content)"
   ]
  },
  {
   "cell_type": "code",
   "execution_count": 16,
   "metadata": {},
   "outputs": [
    {
     "data": {
      "image/png": "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\n",
      "text/plain": [
       "<IPython.core.display.Image object>"
      ]
     },
     "execution_count": 16,
     "metadata": {},
     "output_type": "execute_result"
    }
   ],
   "source": [
    "from wsd import wsd\n",
    "%matplotlib inline\n",
    "wsd(\"Sender->Recipient: Hello\\n Recipient->Sender: Message received OK\")"
   ]
  },
  {
   "cell_type": "markdown",
   "metadata": {},
   "source": [
    "### The Levels of Git"
   ]
  },
  {
   "cell_type": "markdown",
   "metadata": {},
   "source": [
    "Let's make ourselves a sequence chart to show the different aspects of Git we've seen so far:"
   ]
  },
  {
   "cell_type": "code",
   "execution_count": 17,
   "metadata": {},
   "outputs": [
    {
     "data": {
      "image/png": "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\n",
      "text/plain": [
       "<IPython.core.display.Image object>"
      ]
     },
     "execution_count": 17,
     "metadata": {},
     "output_type": "execute_result"
    }
   ],
   "source": [
    "message=\"\"\"\n",
    "Working Directory -> Staging Area : git add\n",
    "Staging Area -> Local Repository : git commit\n",
    "Working Directory -> Local Repository : git commit -a\n",
    "\"\"\"\n",
    "wsd(message)"
   ]
  },
  {
   "cell_type": "markdown",
   "metadata": {},
   "source": [
    "### Review of status"
   ]
  },
  {
   "cell_type": "code",
   "execution_count": 18,
   "metadata": {
    "attributes": {
     "classes": [
      " Bash"
     ],
     "id": ""
    }
   },
   "outputs": [
    {
     "name": "stdout",
     "output_type": "stream",
     "text": [
      "On branch master\n",
      "Changes to be committed:\n",
      "  (use \"git restore --staged <file>...\" to unstage)\n",
      "\tmodified:   test.md\n",
      "\n",
      "Untracked files:\n",
      "  (use \"git add <file>...\" to include in what will be committed)\n",
      "\t__pycache__/\n",
      "\twsd.py\n",
      "\n"
     ]
    }
   ],
   "source": [
    "%%bash\n",
    "git status"
   ]
  },
  {
   "cell_type": "code",
   "execution_count": 19,
   "metadata": {},
   "outputs": [
    {
     "name": "stdout",
     "output_type": "stream",
     "text": [
      "[master d076a01] Add a lie about a mountain\n",
      " 1 file changed, 2 insertions(+)\n"
     ]
    }
   ],
   "source": [
    "%%bash\n",
    "git commit -m \"Add a lie about a mountain\""
   ]
  },
  {
   "cell_type": "code",
   "execution_count": 20,
   "metadata": {
    "attributes": {
     "classes": [
      " Bash"
     ],
     "id": ""
    }
   },
   "outputs": [
    {
     "name": "stdout",
     "output_type": "stream",
     "text": [
      "commit d076a01acb47a67c141949aa9e07eeac54ece155\n",
      "Author: jack89roberts <jroberts@turing.ac.uk>\n",
      "Date:   Mon Jan 11 11:44:14 2021 +0000\n",
      "\n",
      "    Add a lie about a mountain\n",
      "\n",
      "commit 8faefc943c307fc9e86c06682892447df1996385\n",
      "Author: jack89roberts <jroberts@turing.ac.uk>\n",
      "Date:   Mon Jan 11 11:44:10 2021 +0000\n",
      "\n",
      "    First commit of discourse on UK topography\n"
     ]
    }
   ],
   "source": [
    "%%bash\n",
    "git log"
   ]
  },
  {
   "cell_type": "markdown",
   "metadata": {},
   "source": [
    "Great, we now have a file which contains a mistake."
   ]
  },
  {
   "cell_type": "markdown",
   "metadata": {},
   "source": [
    "### Carry on regardless\n",
    "\n",
    "In a while, we'll use Git to roll back to the last correct version: this is one of the main reasons we wanted to use version control, after all! But for now, let's do just as we would if we were writing code, not notice our mistake and keep working..."
   ]
  },
  {
   "cell_type": "markdown",
   "metadata": {},
   "source": [
    "```bash\n",
    "vim test.md\n",
    "```"
   ]
  },
  {
   "cell_type": "code",
   "execution_count": 21,
   "metadata": {},
   "outputs": [
    {
     "name": "stdout",
     "output_type": "stream",
     "text": [
      "Overwriting test.md\n"
     ]
    }
   ],
   "source": [
    "%%writefile test.md\n",
    "Mountains and Hills in the UK   \n",
    "===================   \n",
    "England is not very mountainous.   \n",
    "But has some tall hills, and maybe a mountain or two depending on your definition.\n",
    "\n",
    "Mount Fictional, in Barsetshire, U.K. is the tallest mountain in the world.\n"
   ]
  },
  {
   "cell_type": "code",
   "execution_count": 22,
   "metadata": {
    "attributes": {
     "classes": [
      " Bash"
     ],
     "id": ""
    }
   },
   "outputs": [
    {
     "name": "stdout",
     "output_type": "stream",
     "text": [
      "Mountains and Hills in the UK   \r\n",
      "===================   \r\n",
      "England is not very mountainous.   \r\n",
      "But has some tall hills, and maybe a mountain or two depending on your definition.\r\n",
      "\r\n",
      "Mount Fictional, in Barsetshire, U.K. is the tallest mountain in the world.\r\n"
     ]
    }
   ],
   "source": [
    "cat test.md"
   ]
  },
  {
   "cell_type": "markdown",
   "metadata": {},
   "source": [
    "### Commit with a built-in-add"
   ]
  },
  {
   "cell_type": "code",
   "execution_count": 23,
   "metadata": {},
   "outputs": [
    {
     "name": "stdout",
     "output_type": "stream",
     "text": [
      "[master f21aa9f] Change title\n",
      " 1 file changed, 1 insertion(+), 1 deletion(-)\n"
     ]
    }
   ],
   "source": [
    "%%bash\n",
    "git commit -am \"Change title\""
   ]
  },
  {
   "cell_type": "markdown",
   "metadata": {},
   "source": [
    "This last command, `git commit -a` automatically adds changes to all tracked files to the staging area, as part of the commit command. So, if you never want to just add changes to some tracked files but not others, you can just use this and forget about the staging area!"
   ]
  },
  {
   "cell_type": "markdown",
   "metadata": {
    "collapsed": true
   },
   "source": [
    "### Review of changes"
   ]
  },
  {
   "cell_type": "code",
   "execution_count": 24,
   "metadata": {
    "attributes": {
     "classes": [
      " Bash"
     ],
     "id": ""
    }
   },
   "outputs": [
    {
     "name": "stdout",
     "output_type": "stream",
     "text": [
      "commit f21aa9fa8e6c24d880af2e84da8ea21444854657\n",
      "Author: jack89roberts <jroberts@turing.ac.uk>\n",
      "Date:   Mon Jan 11 11:44:14 2021 +0000\n",
      "\n",
      "    Change title\n",
      "\n",
      "commit d076a01acb47a67c141949aa9e07eeac54ece155\n",
      "Author: jack89roberts <jroberts@turing.ac.uk>\n",
      "Date:   Mon Jan 11 11:44:14 2021 +0000\n",
      "\n"
     ]
    }
   ],
   "source": [
    "%%bash\n",
    "git log | head"
   ]
  },
  {
   "cell_type": "markdown",
   "metadata": {},
   "source": [
    "We now have three changes in the history:"
   ]
  },
  {
   "cell_type": "code",
   "execution_count": 25,
   "metadata": {
    "attributes": {
     "classes": [
      " Bash"
     ],
     "id": ""
    }
   },
   "outputs": [
    {
     "name": "stdout",
     "output_type": "stream",
     "text": [
      "f21aa9f Change title\n",
      "d076a01 Add a lie about a mountain\n",
      "8faefc9 First commit of discourse on UK topography\n"
     ]
    }
   ],
   "source": [
    "%%bash\n",
    "git log --oneline"
   ]
  },
  {
   "cell_type": "markdown",
   "metadata": {},
   "source": [
    "### Git Solo Workflow"
   ]
  },
  {
   "cell_type": "markdown",
   "metadata": {},
   "source": [
    "We can make a diagram that summarises the above story:"
   ]
  },
  {
   "cell_type": "code",
   "execution_count": 26,
   "metadata": {},
   "outputs": [
    {
     "data": {
      "image/png": "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\n",
      "text/plain": [
       "<IPython.core.display.Image object>"
      ]
     },
     "execution_count": 26,
     "metadata": {},
     "output_type": "execute_result"
    }
   ],
   "source": [
    "message=\"\"\"\n",
    "participant \"Jim's repo\" as R\n",
    "participant \"Jim's index\" as I\n",
    "participant Jim as J\n",
    "\n",
    "note right of J: vim test.md\n",
    "\n",
    "note right of J: git init\n",
    "J->R: create\n",
    "\n",
    "note right of J: git add test.md\n",
    "\n",
    "J->I: Add content of test.md\n",
    "\n",
    "note right of J: git commit\n",
    "I->R: Commit content of test.md\n",
    "\n",
    "note right of J:  vim test.md\n",
    "\n",
    "note right of J: git add --update\n",
    "J->I: Add content of test.md\n",
    "note right of J: git commit -m \"Add a lie\"\n",
    "I->R: Commit change to test.md\n",
    "\n",
    "note right of J:  vim test.md\n",
    "note right of J: git commit -am \"Change title\"\n",
    "J->R: Add and commit change to test.md (and all tracked files)\n",
    "\"\"\"\n",
    "wsd(message)"
   ]
  }
 ],
 "metadata": {
  "jekyll": {
   "display_name": "Solo Git"
  },
  "kernelspec": {
   "display_name": "Python 3",
   "language": "python",
   "name": "python3"
  },
  "language_info": {
   "codemirror_mode": {
    "name": "ipython",
    "version": 3
   },
   "file_extension": ".py",
   "mimetype": "text/x-python",
   "name": "python",
   "nbconvert_exporter": "python",
   "pygments_lexer": "ipython3",
<<<<<<< Updated upstream
   "version": "3.7.9"
=======
   "version": "3.7.9-final"
>>>>>>> Stashed changes
  }
 },
 "nbformat": 4,
 "nbformat_minor": 1
}